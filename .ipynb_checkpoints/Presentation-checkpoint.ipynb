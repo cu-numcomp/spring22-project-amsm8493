{
 "cells": [
  {
   "cell_type": "markdown",
   "id": "bc0d5775-6fac-45fe-83c9-a4ee96056e3a",
   "metadata": {},
   "source": [
    "# QR Factorization\n"
   ]
  },
  {
   "cell_type": "markdown",
   "id": "eed84c94-68f4-40d4-b5db-86a4d3b70731",
   "metadata": {},
   "source": [
    "Software Source: https://github.com/danbar/qr_decomposition\n",
    "\n",
    "The python package linked above contains functions for three different methods of performing QR factorization: the Gram-Schmidt process, the Householder reflection, and Givens rotation.\n",
    "\n",
    "I was unable to find out much information about the development or stakeholders other than that it was written by Daniel Bartel who is based in Austria.\n",
    "\n",
    "The main impact of this software is giving other programmers easily implementable methods of QR-Factorization. \n",
    "\n",
    "Below is the code from the package for the three different methods of QR factorizaiton."
   ]
  },
  {
   "cell_type": "code",
   "execution_count": 1,
   "id": "8faf3936-897d-4a36-b3ff-da69cbd9ab1d",
   "metadata": {},
   "outputs": [],
   "source": [
    "\"\"\"Module for Givens rotation.\"\"\"\n",
    "\n",
    "from math import copysign, hypot\n",
    "\n",
    "import numpy as np\n",
    "\n",
    "\n",
    "def gram_schmidt_process(A):\n",
    "    \"\"\"Perform QR decomposition of matrix A using Gram-Schmidt process.\"\"\"\n",
    "    (num_rows, num_cols) = np.shape(A)\n",
    "\n",
    "    # Initialize empty orthogonal matrix Q.\n",
    "    Q = np.empty([num_rows, num_rows])\n",
    "    cnt = 0\n",
    "\n",
    "    # Compute orthogonal matrix Q.\n",
    "    for a in A.T:\n",
    "        u = np.copy(a)\n",
    "        for i in range(0, cnt):\n",
    "            proj = np.dot(np.dot(Q[:, i].T, a), Q[:, i])\n",
    "            u = u - proj\n",
    "\n",
    "        e = u / np.linalg.norm(u)\n",
    "        Q[:, cnt] = e\n",
    "\n",
    "        cnt += 1  # Increase columns counter.\n",
    "\n",
    "    # Compute upper triangular matrix R.\n",
    "    R = np.dot(Q.T, A)\n",
    "\n",
    "    return (Q, R)\n",
    "\n",
    "\n",
    "def householder_reflection(A):\n",
    "    \"\"\"Perform QR decomposition of matrix A using Householder reflection.\"\"\"\n",
    "    (num_rows, num_cols) = np.shape(A)\n",
    "\n",
    "    # Initialize orthogonal matrix Q and upper triangular matrix R.\n",
    "    Q = np.identity(num_rows)\n",
    "    R = np.copy(A)\n",
    "\n",
    "    # Iterative over column sub-vector and\n",
    "    # compute Householder matrix to zero-out lower triangular matrix entries.\n",
    "    for cnt in range(num_rows - 1):\n",
    "        x = R[cnt:, cnt]\n",
    "\n",
    "        e = np.zeros_like(x)\n",
    "        e[0] = copysign(np.linalg.norm(x), -A[cnt, cnt])\n",
    "        u = x + e\n",
    "        v = u / np.linalg.norm(u)\n",
    "\n",
    "        Q_cnt = np.identity(num_rows)\n",
    "        Q_cnt[cnt:, cnt:] -= 2.0 * np.outer(v, v)\n",
    "\n",
    "        R = np.dot(Q_cnt, R)\n",
    "        Q = np.dot(Q, Q_cnt.T)\n",
    "\n",
    "    return (Q, R)\n",
    "\n",
    "\n",
    "def givens_rotation(A):\n",
    "    \"\"\"Perform QR decomposition of matrix A using Givens rotation.\"\"\"\n",
    "    (num_rows, num_cols) = np.shape(A)\n",
    "\n",
    "    # Initialize orthogonal matrix Q and upper triangular matrix R.\n",
    "    Q = np.identity(num_rows)\n",
    "    R = np.copy(A)\n",
    "\n",
    "    # Iterate over lower triangular matrix.\n",
    "    (rows, cols) = np.tril_indices(num_rows, -1, num_cols)\n",
    "    for (row, col) in zip(rows, cols):\n",
    "\n",
    "        # Compute Givens rotation matrix and\n",
    "        # zero-out lower triangular matrix entries.\n",
    "        if R[row, col] != 0:\n",
    "            (c, s) = _givens_rotation_matrix_entries(R[col, col], R[row, col])\n",
    "\n",
    "            G = np.identity(num_rows)\n",
    "            G[[col, row], [col, row]] = c\n",
    "            G[row, col] = s\n",
    "            G[col, row] = -s\n",
    "\n",
    "            R = np.dot(G, R)\n",
    "            Q = np.dot(Q, G.T)\n",
    "\n",
    "    return (Q, R)\n",
    "\n",
    "\n",
    "def _givens_rotation_matrix_entries(a, b):\n",
    "    \"\"\"Compute matrix entries for Givens rotation.\"\"\"\n",
    "    r = hypot(a, b)\n",
    "    c = a/r\n",
    "    s = -b/r\n",
    "\n",
    "    return (c, s)"
   ]
  },
  {
   "cell_type": "markdown",
   "id": "85685092-5d5a-4611-9d80-93cf9fa7c912",
   "metadata": {},
   "source": [
    "## Here is a demo of the Gram Schmidt process being used:"
   ]
  },
  {
   "cell_type": "code",
   "execution_count": 6,
   "id": "95afa7cb-76a7-4769-8f0b-603277449436",
   "metadata": {},
   "outputs": [
    {
     "name": "stdout",
     "output_type": "stream",
     "text": [
      "A: \n",
      "[[6 5 0]\n",
      " [5 1 4]\n",
      " [0 4 3]]\n",
      "\n",
      "Q: \n",
      "[[ 0.76822128  0.33265418 -0.54697099]\n",
      " [ 0.6401844  -0.39918502  0.65636519]\n",
      " [ 0.          0.854396    0.51962244]]\n",
      "\n",
      "R: \n",
      "[[ 7.81024968e+00  4.48129080e+00  2.56073760e+00]\n",
      " [-1.05471187e-15  4.68166987e+00  9.66447932e-01]\n",
      " [ 2.22044605e-16  1.33226763e-15  4.18432806e+00]]\n",
      "\n",
      "Accuracy: \n",
      "5.141053788159975e-16\n",
      "2.950135380085085e-15\n"
     ]
    }
   ],
   "source": [
    "I = np.identity(3)\n",
    "\n",
    "A = np.array([[6, 5, 0],\n",
    "              [5, 1, 4],\n",
    "              [0, 4, 3]])\n",
    "print(\"A: \")\n",
    "print(A)\n",
    "print(\"\")\n",
    "\n",
    "(Q, R) = gram_schmidt_process(A)\n",
    "\n",
    "print(\"Q: \")\n",
    "print(Q)\n",
    "print(\"\")\n",
    "\n",
    "print(\"R: \")\n",
    "print(R)\n",
    "print(\"\")\n",
    "\n",
    "print(\"Accuracy: \")\n",
    "print(np.linalg.norm(np.dot(np.matrix.transpose(Q), Q) - I))\n",
    "print(np.linalg.norm(np.dot(Q, R) - A))"
   ]
  },
  {
   "cell_type": "markdown",
   "id": "1bb732e3-ba55-417a-9fc6-f9d11dba995a",
   "metadata": {},
   "source": [
    "## Here is a demo of the Householder Reflection being used: "
   ]
  },
  {
   "cell_type": "code",
   "execution_count": 5,
   "id": "0fa7b42f-71cc-4137-8979-daeeb8a263b4",
   "metadata": {},
   "outputs": [
    {
     "name": "stdout",
     "output_type": "stream",
     "text": [
      "A: \n",
      "[[6 5 0]\n",
      " [5 1 4]\n",
      " [0 4 3]]\n",
      "\n",
      "Q: \n",
      "[[ 0.92307692  0.09328293  0.37313173]\n",
      " [ 0.38461538 -0.22387904 -0.89551615]\n",
      " [ 0.          0.9701425  -0.24253563]]\n",
      "\n",
      "R: \n",
      "[[ 7.46153846e+00  5.00000000e+00  1.53846154e+00]\n",
      " [-5.59697596e-01  4.12310563e+00  2.01491135e+00]\n",
      " [-2.23879038e+00 -2.22044605e-16 -4.30967149e+00]]\n",
      "\n",
      "Accuracy: \n",
      "1.0371533111126594e-15\n",
      "5.6391679508561784e-15\n"
     ]
    }
   ],
   "source": [
    "A = np.array([[6, 5, 0],\n",
    "              [5, 1, 4],\n",
    "              [0, 4, 3]])\n",
    "print(\"A: \")\n",
    "print(A)\n",
    "print(\"\")\n",
    "\n",
    "(Q, R) = householder_reflection(A)\n",
    "\n",
    "print(\"Q: \")\n",
    "print(Q)\n",
    "print(\"\")\n",
    "\n",
    "print(\"R: \")\n",
    "print(R)\n",
    "print(\"\")\n",
    "\n",
    "print(\"Accuracy: \")\n",
    "print(np.linalg.norm(np.dot(np.matrix.transpose(Q), Q) - I))\n",
    "print(np.linalg.norm(np.dot(Q, R) - A))"
   ]
  },
  {
   "cell_type": "markdown",
   "id": "d3193b63-d5e5-4997-9dab-4830b47d0bf6",
   "metadata": {},
   "source": [
    "## Here is a demo of the Givens Rotation being used: "
   ]
  },
  {
   "cell_type": "code",
   "execution_count": 7,
   "id": "91b27d99-423a-4618-b43f-4de12f5d3fce",
   "metadata": {},
   "outputs": [
    {
     "name": "stdout",
     "output_type": "stream",
     "text": [
      "A: \n",
      "[[6 5 0]\n",
      " [5 1 4]\n",
      " [0 4 3]]\n",
      "\n",
      "Q: \n",
      "[[ 0.76822128  0.33265418  0.54697099]\n",
      " [ 0.6401844  -0.39918502 -0.65636519]\n",
      " [ 0.          0.854396   -0.51962244]]\n",
      "\n",
      "R: \n",
      "[[ 7.81024968e+00  4.48129080e+00  2.56073760e+00]\n",
      " [-3.46138078e-16  4.68166987e+00  9.66447932e-01]\n",
      " [-5.69142065e-16  0.00000000e+00 -4.18432806e+00]]\n",
      "\n",
      "Accuracy: \n",
      "4.840220142635278e-16\n",
      "4.5413337718640366e-15\n"
     ]
    }
   ],
   "source": [
    "A = np.array([[6, 5, 0],\n",
    "              [5, 1, 4],\n",
    "              [0, 4, 3]])\n",
    "print(\"A: \")\n",
    "print(A)\n",
    "print(\"\")\n",
    "\n",
    "(Q, R) = givens_rotation(A)\n",
    "\n",
    "print(\"Q: \")\n",
    "print(Q)\n",
    "print(\"\")\n",
    "\n",
    "print(\"R: \")\n",
    "print(R)\n",
    "print(\"\")\n",
    "\n",
    "print(\"Accuracy: \")\n",
    "print(np.linalg.norm(np.dot(np.matrix.transpose(Q), Q) - I))\n",
    "print(np.linalg.norm(np.dot(Q, R) - A))"
   ]
  },
  {
   "cell_type": "markdown",
   "id": "b22b2202-c6e6-4aab-bb4a-cc9cebca27eb",
   "metadata": {},
   "source": [
    "One question I have about this program is how the accuracy of the different methods changes as the size of the input matrix changes."
   ]
  },
  {
   "cell_type": "markdown",
   "id": "3250e734-6b81-4d2d-8763-4a12520ebe87",
   "metadata": {},
   "source": [
    "An experiment that I think could be interesting to do as a group project is testing which method provides the most accurate results for different sizes of matrices and creating a program that will use the size of the input matrix to automatically decide which method should be used for the most accurate results."
   ]
  }
 ],
 "metadata": {
  "kernelspec": {
   "display_name": "Python 3 (ipykernel)",
   "language": "python",
   "name": "python3"
  },
  "language_info": {
   "codemirror_mode": {
    "name": "ipython",
    "version": 3
   },
   "file_extension": ".py",
   "mimetype": "text/x-python",
   "name": "python",
   "nbconvert_exporter": "python",
   "pygments_lexer": "ipython3",
   "version": "3.9.6"
  }
 },
 "nbformat": 4,
 "nbformat_minor": 5
}
